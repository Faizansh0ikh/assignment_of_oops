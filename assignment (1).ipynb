{
 "cells": [
  {
   "cell_type": "markdown",
   "id": "eba65b1e-080c-4e21-8807-d37efad4d5f7",
   "metadata": {},
   "source": [
    "Q1, Create a vehicle class with an init method having instance variables as name_of_vehicle, max_speed\n",
    "and average_of_vehicle."
   ]
  },
  {
   "cell_type": "code",
   "execution_count": 1,
   "id": "cf3e55b1-0029-4332-9d4e-ed14cf244231",
   "metadata": {},
   "outputs": [],
   "source": [
    "class vehicle():\n",
    "    def __init__ (self,name_vehicle, max_speed, average_of_vehicle) :\n",
    "        self.name_vehicle = name_vehicle\n",
    "        self.max_speed = max_speed\n",
    "        self.average_of_vehicle = average_of_vehicle"
   ]
  },
  {
   "cell_type": "code",
   "execution_count": 4,
   "id": "014a8cce-71e2-4c34-90bc-ffc2ffbd4ef2",
   "metadata": {},
   "outputs": [],
   "source": [
    "car = vehicle(\"BMW\", 600, 10)"
   ]
  },
  {
   "cell_type": "code",
   "execution_count": 5,
   "id": "39e6f651-0aad-4236-9133-8ea2658a2960",
   "metadata": {},
   "outputs": [
    {
     "data": {
      "text/plain": [
       "'BMW'"
      ]
     },
     "execution_count": 5,
     "metadata": {},
     "output_type": "execute_result"
    }
   ],
   "source": [
    "car.name_vehicle"
   ]
  },
  {
   "cell_type": "code",
   "execution_count": 6,
   "id": "519938a1-a380-4502-a1fe-7dfef0522ebf",
   "metadata": {},
   "outputs": [
    {
     "data": {
      "text/plain": [
       "600"
      ]
     },
     "execution_count": 6,
     "metadata": {},
     "output_type": "execute_result"
    }
   ],
   "source": [
    "car.max_speed"
   ]
  },
  {
   "cell_type": "code",
   "execution_count": 7,
   "id": "6f0f90ce-a7d5-4b67-b428-73d9f23af007",
   "metadata": {},
   "outputs": [
    {
     "data": {
      "text/plain": [
       "10"
      ]
     },
     "execution_count": 7,
     "metadata": {},
     "output_type": "execute_result"
    }
   ],
   "source": [
    "car.average_of_vehicle"
   ]
  },
  {
   "cell_type": "markdown",
   "id": "626ff594-d37d-43e1-bc97-a0c61eac5858",
   "metadata": {},
   "source": [
    "Q2. Create a child class car from the vehicle class created in Que 1, which will inherit the vehicle class.\n",
    "Create a method named seating_capacity which takes capacity as an argument and returns the name of\n",
    "the vehicle and its seating capacity."
   ]
  },
  {
   "cell_type": "code",
   "execution_count": 14,
   "id": "34008a08-01ab-46a3-b466-ac6bc8d527c6",
   "metadata": {},
   "outputs": [],
   "source": [
    "class vehicle():\n",
    "    def __init__ (self,name_vehicle, max_speed, average_of_vehicle) :\n",
    "        self.name_vehicle = name_vehicle\n",
    "        self.max_speed = max_speed\n",
    "        self.average_of_vehicle = average_of_vehicle\n",
    "\n",
    "class car(vehicle):\n",
    "    def seating_capacity(self, capacity):\n",
    "        return f\"the {self.name_vehicle} has a seating capacity of {capacity}\""
   ]
  },
  {
   "cell_type": "code",
   "execution_count": 17,
   "id": "66a6d0f5-f627-4724-baf9-ffe1ce853fb5",
   "metadata": {},
   "outputs": [],
   "source": [
    "car1 = car(\"BMW\", 600, 10)"
   ]
  },
  {
   "cell_type": "code",
   "execution_count": 18,
   "id": "9f4d9431-5031-4e43-8c2b-096b97024067",
   "metadata": {},
   "outputs": [
    {
     "data": {
      "text/plain": [
       "'the BMW has a seating capacity of 4'"
      ]
     },
     "execution_count": 18,
     "metadata": {},
     "output_type": "execute_result"
    }
   ],
   "source": [
    "car1.seating_capacity(4)"
   ]
  },
  {
   "cell_type": "markdown",
   "id": "290e2cab-aa19-4fab-893b-5935ed255478",
   "metadata": {},
   "source": [
    "Q3. What is multiple inheritance? Write a python code to demonstrate multiple inheritance."
   ]
  },
  {
   "cell_type": "markdown",
   "id": "7b29ccb5-a3d7-4385-9e20-dfaec8138682",
   "metadata": {},
   "source": [
    "In python multiple inhritance is a feature that allow child class to inherit characteristics of different parents."
   ]
  },
  {
   "cell_type": "code",
   "execution_count": 24,
   "id": "63e81922-fc86-4dfa-963b-0e96097b5acc",
   "metadata": {},
   "outputs": [],
   "source": [
    "class animal():\n",
    "    def __init__ (self, name):\n",
    "        self.name = name\n",
    "    \n",
    "    def eat(self):\n",
    "        print(f\"{self.name} is eating\")\n",
    "        \n",
    "    def sleep(self):\n",
    "        print(f\"{self.name} is spleeping\")\n",
    "\n",
    "class mammal:\n",
    "    def __init__ (self, name):\n",
    "        self.name = name\n",
    "    \n",
    "    def walk(self):\n",
    "        print(f\"{self.name} is walking\")\n",
    "class Dog(animal, mammal):\n",
    "    def __init__ (self,name):\n",
    "        animal.__init__(self,name)\n",
    "        mammal.__init__(self,name)\n",
    "    \n",
    "    def bark(self):\n",
    "        print(f\"{self.name} is barking\")\n",
    "        "
   ]
  },
  {
   "cell_type": "code",
   "execution_count": 25,
   "id": "dbd46713-8ea4-4c33-bb2b-78e62ef6d9f6",
   "metadata": {},
   "outputs": [],
   "source": [
    "dog = Dog(\"buddy\")"
   ]
  },
  {
   "cell_type": "code",
   "execution_count": 27,
   "id": "2a96f420-ec79-4703-aec0-ea846ed3ff75",
   "metadata": {},
   "outputs": [
    {
     "name": "stdout",
     "output_type": "stream",
     "text": [
      "buddy is eating\n"
     ]
    }
   ],
   "source": [
    "dog.eat()\n"
   ]
  },
  {
   "cell_type": "code",
   "execution_count": 28,
   "id": "551ed82b-7660-4d5d-a858-af5b028f6265",
   "metadata": {},
   "outputs": [
    {
     "name": "stdout",
     "output_type": "stream",
     "text": [
      "buddy is walking\n"
     ]
    }
   ],
   "source": [
    "dog.walk()"
   ]
  },
  {
   "cell_type": "code",
   "execution_count": 29,
   "id": "71f8c1d9-4712-41a2-95da-a024c9e2457e",
   "metadata": {},
   "outputs": [
    {
     "name": "stdout",
     "output_type": "stream",
     "text": [
      "buddy is barking\n"
     ]
    }
   ],
   "source": [
    "dog.bark()"
   ]
  },
  {
   "cell_type": "markdown",
   "id": "907b4a84-bf7e-4058-98cf-c0b03aae0fce",
   "metadata": {},
   "source": [
    "Q4. What are getter and setter in python? Create a class and create a getter and a setter method in this\n",
    "class."
   ]
  },
  {
   "cell_type": "markdown",
   "id": "71b0511a-9cd3-42fe-98ea-0ac689c8dffd",
   "metadata": {},
   "source": [
    "Getter and better are methods in python those provide full control on attributes"
   ]
  },
  {
   "cell_type": "code",
   "execution_count": 31,
   "id": "813fe5cd-8e69-4933-b4a2-91000d3f69c6",
   "metadata": {},
   "outputs": [],
   "source": [
    "class Person:\n",
    "    def __init__(self, name, age):\n",
    "        self._name = name  # Private attribute\n",
    "        self._age = age    # Private attribute\n",
    "\n",
    "    @property\n",
    "    def name(self):\n",
    "        return self._name\n",
    "\n",
    "    @name.setter\n",
    "    def name(self, name):\n",
    "        self._name = name\n",
    "\n",
    "    @property\n",
    "    def age(self):\n",
    "        return self._age\n",
    "\n",
    "    @age.setter\n",
    "    def age(self, age):\n",
    "        if age >= 0:\n",
    "            self._age = age\n",
    "        else:\n",
    "            print(\"Age cannot be negative.\")"
   ]
  },
  {
   "cell_type": "code",
   "execution_count": 32,
   "id": "7c2b2398-1a4a-434e-9762-c7415994bf9a",
   "metadata": {},
   "outputs": [],
   "source": [
    "person = Person(\"John\", 25)"
   ]
  },
  {
   "cell_type": "code",
   "execution_count": 33,
   "id": "459d9cf6-6be1-44aa-aa41-7368b0933ea6",
   "metadata": {},
   "outputs": [
    {
     "name": "stdout",
     "output_type": "stream",
     "text": [
      "John\n"
     ]
    }
   ],
   "source": [
    "print(person.name)"
   ]
  },
  {
   "cell_type": "code",
   "execution_count": 34,
   "id": "5e7a78a3-972b-4da6-aee0-5e8fd9e287df",
   "metadata": {},
   "outputs": [
    {
     "name": "stdout",
     "output_type": "stream",
     "text": [
      "Alice\n"
     ]
    }
   ],
   "source": [
    "person.name = \"Alice\"\n",
    "print(person.name)"
   ]
  },
  {
   "cell_type": "code",
   "execution_count": 35,
   "id": "0e81bf2a-dc6a-4a8f-bd46-7f3666cad8c3",
   "metadata": {},
   "outputs": [
    {
     "name": "stdout",
     "output_type": "stream",
     "text": [
      "25\n",
      "30\n",
      "Age cannot be negative.\n"
     ]
    }
   ],
   "source": [
    "print(person.age)\n",
    "person.age = 30\n",
    "\n",
    "print(person.age)\n",
    "person.age = -5"
   ]
  },
  {
   "cell_type": "markdown",
   "id": "bdfef5d6-a86c-425d-a728-9a0cc97627e8",
   "metadata": {},
   "source": [
    "Q5.What is method overriding in python? Write a python code to demonstrate method overriding."
   ]
  },
  {
   "cell_type": "markdown",
   "id": "1d12ff58-2e4d-4ecb-be39-1794fbffdef9",
   "metadata": {},
   "source": [
    "Method overriding is a concept in object-oriented programming where a subclass provides a different implementation of a method that is already defined in its superclass."
   ]
  },
  {
   "cell_type": "code",
   "execution_count": 37,
   "id": "938774a0-51ed-4dd5-ae45-0bb8005f5cbc",
   "metadata": {},
   "outputs": [],
   "source": [
    "class Animal:\n",
    "    def make_sound(self):\n",
    "        print(\"The animal makes a sound.\")\n",
    "\n",
    "class Dog(Animal):\n",
    "    def make_sound(self):\n",
    "        print(\"The dog barks.\")\n",
    "\n",
    "class Cat(Animal):\n",
    "    def make_sound(self):\n",
    "        print(\"The cat meows.\")"
   ]
  },
  {
   "cell_type": "code",
   "execution_count": 38,
   "id": "7b90f4e2-76ac-451b-850a-aab95e5b4f19",
   "metadata": {},
   "outputs": [],
   "source": [
    "animal = Animal()\n",
    "dog = Dog()\n",
    "cat = Cat()"
   ]
  },
  {
   "cell_type": "code",
   "execution_count": 39,
   "id": "5d7f8007-3c97-446a-a036-742a8238104d",
   "metadata": {},
   "outputs": [
    {
     "name": "stdout",
     "output_type": "stream",
     "text": [
      "The animal makes a sound.\n",
      "The dog barks.\n",
      "The cat meows.\n"
     ]
    }
   ],
   "source": [
    "animal.make_sound()  \n",
    "dog.make_sound()     \n",
    "cat.make_sound()   "
   ]
  },
  {
   "cell_type": "code",
   "execution_count": null,
   "id": "514f3fff-3e25-443e-bfd0-e186170acc8d",
   "metadata": {},
   "outputs": [],
   "source": []
  }
 ],
 "metadata": {
  "kernelspec": {
   "display_name": "Python 3 (ipykernel)",
   "language": "python",
   "name": "python3"
  },
  "language_info": {
   "codemirror_mode": {
    "name": "ipython",
    "version": 3
   },
   "file_extension": ".py",
   "mimetype": "text/x-python",
   "name": "python",
   "nbconvert_exporter": "python",
   "pygments_lexer": "ipython3",
   "version": "3.10.8"
  }
 },
 "nbformat": 4,
 "nbformat_minor": 5
}
